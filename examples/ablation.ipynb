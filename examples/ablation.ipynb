{
 "cells": [
  {
   "cell_type": "code",
   "execution_count": null,
   "metadata": {},
   "outputs": [],
   "source": [
    "import os\n",
    "import pandas as pd\n",
    "import numpy as np\n",
    "\n",
    "from core import DATA_CLEAN_PATH, RES_PATH\n",
    "from utils.evaluation import write_results_to_excel\n",
    "from utils.utils_params_helper import ABLATION_PARAMS_DICT, get_train_eval_time\n",
    "\n",
    "import warnings\n",
    "warnings.filterwarnings(\"ignore\")"
   ]
  },
  {
   "attachments": {},
   "cell_type": "markdown",
   "metadata": {},
   "source": [
    "# Time Measurements"
   ]
  },
  {
   "cell_type": "code",
   "execution_count": null,
   "metadata": {},
   "outputs": [],
   "source": [
    "MODEL_NAMES = [\n",
    "    'Popularity', \n",
    "    'UserKNN', 'ItemKNN',\n",
    "    'iALS', 'BPR', \n",
    "    'NCF', 'BiVAE', 'LightGCN',\n",
    "    'LightFM', 'PinSage', 'Tensor',\n",
    "]\n",
    "\n",
    "train_time_ls = []\n",
    "eval_time_ls = []\n",
    "for model in MODEL_NAMES: \n",
    "    train_time, eval_time = get_train_eval_time(model)\n",
    "    train_time_ls.append(train_time)\n",
    "    eval_time_ls.append(eval_time)\n",
    "\n",
    "time_df = pd.DataFrame({\n",
    "    'model': MODEL_NAMES,  \n",
    "    'train time': train_time_ls, \n",
    "    'evaluation time': eval_time_ls \n",
    "})\n",
    "write_results_to_excel(time_df, os.path.join(RES_PATH, 'test_results.xlsx'), 'time')"
   ]
  },
  {
   "attachments": {},
   "cell_type": "markdown",
   "metadata": {},
   "source": [
    "# Hybrid Models"
   ]
  },
  {
   "cell_type": "code",
   "execution_count": null,
   "metadata": {},
   "outputs": [],
   "source": [
    "# lightfm: run 10 times, each time change seed\n",
    "# get average time and test results\n",
    "\n",
    "MODEL_NAMES = [\n",
    "    'LightFM_allfeature', 'LightFM_nofeature', 'LightFM_notext', 'LightFM_onlytext', \n",
    "]\n",
    "\n",
    "train_time_ls = []\n",
    "eval_time_ls = []\n",
    "\n",
    "if os.path.exists(os.path.join(RES_PATH, 'ablation_results_lightfm.txt')):\n",
    "    f = open(os.path.join(RES_PATH, 'ablation_results_lightfm.txt'), 'a')\n",
    "else:\n",
    "    f = open(os.path.join(RES_PATH, 'ablation_results_lightfm.txt'), 'w')\n",
    "\n",
    "n_run = 10\n",
    "for model in MODEL_NAMES: \n",
    "    if model.split(\"_\")[0] == 'LightFM': \n",
    "        ABLATION_PARAMS_DICT[model]['seed'] = np.random.random_integers(3000)\n",
    "        # generate a random integer as seed for LightFM model\n",
    "\n",
    "    train_time_arr = np.zeros((n_run,1))\n",
    "    eval_time_arr = np.zeros((n_run,1))\n",
    "    test_res = np.zeros((6,3))\n",
    "    for i in range(n_run): \n",
    "        train_time, eval_time, res = get_train_eval_time(model, params_dict=ABLATION_PARAMS_DICT, verbose=False)\n",
    "        train_time_arr[i] = train_time\n",
    "        eval_time_arr[i] = eval_time\n",
    "        test_res += res.values\n",
    "    train_time = np.mean(train_time_arr)\n",
    "    eval_time = np.mean(eval_time_arr)\n",
    "    test_res = test_res/n_run\n",
    "\n",
    "    print(model, file=f)\n",
    "    print(f'train_time = {train_time}, eval_time = {eval_time}', file=f)\n",
    "    print('test results:', file=f)\n",
    "    print(test_res, file=f)\n",
    "    print('', file=f)\n",
    "\n",
    "    print(model)\n",
    "    print(f'train_time = {train_time}, eval_time = {eval_time}')\n",
    "    print('test results:')\n",
    "    print(test_res)\n",
    "    print()\n",
    "\n",
    "f.close()"
   ]
  },
  {
   "cell_type": "code",
   "execution_count": null,
   "metadata": {},
   "outputs": [],
   "source": [
    "# pinsage: run 10 times\n",
    "MODEL_NAMES = [\n",
    "    'PinSage_allfeature', 'PinSage_nofeature', 'PinSage_notext', 'PinSage_onlytext', \n",
    "    # 'Tensor_allfeature', 'Tensor_notext', 'Tensor_onlytext',\n",
    "]\n",
    "\n",
    "train_time_ls = []\n",
    "eval_time_ls = []\n",
    "\n",
    "if os.path.exists(os.path.join(RES_PATH, 'ablation_results.txt')):\n",
    "    f = open(os.path.join(RES_PATH, 'ablation_results.txt'), 'a')\n",
    "else:\n",
    "    f = open(os.path.join(RES_PATH, 'ablation_results.txt'), 'w')\n",
    "\n",
    "n_run = 10\n",
    "for model in MODEL_NAMES: \n",
    "    train_time_arr = np.zeros((n_run,1))\n",
    "    eval_time_arr = np.zeros((n_run,1))\n",
    "    test_res = np.zeros((6,3))\n",
    "    for i in range(n_run): \n",
    "        train_time, eval_time, res = get_train_eval_time(model, params_dict=ABLATION_PARAMS_DICT, verbose=False)\n",
    "        train_time_arr[i] = train_time\n",
    "        eval_time_arr[i] = eval_time\n",
    "        test_res += res.values\n",
    "    train_time = np.mean(train_time_arr)\n",
    "    eval_time = np.mean(eval_time_arr)\n",
    "    test_res = test_res/n_run\n",
    "\n",
    "    print(model, file=f)\n",
    "    print(f'train_time = {train_time}, eval_time = {eval_time}', file=f)\n",
    "    print('test results:', file=f)\n",
    "    print(test_res, file=f)\n",
    "    print('', file=f)\n",
    "\n",
    "    print(model)\n",
    "    print(f'train_time = {train_time}, eval_time = {eval_time}')\n",
    "    print('test results:')\n",
    "    print(test_res)\n",
    "    print()\n",
    "\n",
    "f.close()"
   ]
  },
  {
   "cell_type": "code",
   "execution_count": null,
   "metadata": {},
   "outputs": [],
   "source": []
  }
 ],
 "metadata": {
  "kernelspec": {
   "display_name": "recommenders",
   "language": "python",
   "name": "python3"
  },
  "language_info": {
   "codemirror_mode": {
    "name": "ipython",
    "version": 3
   },
   "file_extension": ".py",
   "mimetype": "text/x-python",
   "name": "python",
   "nbconvert_exporter": "python",
   "pygments_lexer": "ipython3",
   "version": "3.8.16"
  },
  "orig_nbformat": 4
 },
 "nbformat": 4,
 "nbformat_minor": 2
}
